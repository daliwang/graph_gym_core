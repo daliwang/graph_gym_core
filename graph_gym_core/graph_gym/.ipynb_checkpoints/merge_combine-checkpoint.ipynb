{
 "cells": [
  {
   "cell_type": "code",
   "execution_count": null,
   "metadata": {},
   "outputs": [],
   "source": [
    "import os\n",
    "import random\n",
    "import numpy as np\n",
    "import matplotlib.pyplot as plt\n",
    "import networkx as nx"
   ]
  },
  {
   "cell_type": "code",
   "execution_count": null,
   "metadata": {},
   "outputs": [],
   "source": [
    "from agent import Graph_agent\n",
    "from graph_env import Graph_env"
   ]
  },
  {
   "cell_type": "code",
   "execution_count": null,
   "metadata": {},
   "outputs": [],
   "source": [
    "#file_name = \"E3SM_cice_dot_inter_module.txt\"\n",
    "file_name = \"ten_node_test2.txt\"\n",
    "env = Graph_env('merge_combine', file_name)"
   ]
  },
  {
   "cell_type": "code",
   "execution_count": null,
   "metadata": {},
   "outputs": [],
   "source": [
    "total_episodes = 1000         # Total episodes\n",
    "total_test_episodes = 200     # Total test episodes\n",
    "test_steps = 1                 # Max steps per episode\n",
    "num_iterations = 20\n",
    "\n",
    "learning_rate = 0.001           # Learning rate\n",
    "gamma = 0.6                   # Discounting rate\n",
    "\n",
    "# Exploration parameters\n",
    "epsilon = 0.9                 # Exploration rate\n",
    "max_epsilon = 1.0             # Exploration probability at start\n",
    "min_epsilon = 0.01            # Minimum exploration probability \n",
    "decay_rate = 0.01             # Exponential decay rate for exploration prob"
   ]
  },
  {
   "cell_type": "code",
   "execution_count": null,
   "metadata": {},
   "outputs": [],
   "source": [
    "# game_info = [game-name, #input, #hidden, #output, eps, lr, gamma]\n",
    "game_info = ['merge_combine', 156, 50, 12, epsilon, learning_rate, gamma]\n",
    "#game_info = ['merge_cyclomatic', 69432, 500, 263, epsilon, learning_rate, gamma]\n",
    "game_info"
   ]
  },
  {
   "cell_type": "code",
   "execution_count": null,
   "metadata": {},
   "outputs": [],
   "source": [
    "agent = Graph_agent(game_info)"
   ]
  },
  {
   "cell_type": "code",
   "execution_count": null,
   "metadata": {},
   "outputs": [],
   "source": [
    "test_rewards = []\n",
    "# random test before training:\n",
    "for episode in range(5):\n",
    "    \n",
    "    # print(\"done with getting original reward\")\n",
    "    done = False\n",
    "    test_total_rewards = 0\n",
    "    \n",
    "    env.reset()\n",
    "    state = env.graph.b_graph.state\n",
    "    print(state)\n",
    "    \n",
    "    for step in range(test_steps):\n",
    "            \n",
    "        #print(\"prepare to select node\")\n",
    "        action = agent.test(state, step)\n",
    "        next_state, reward, done = env.step(action)\n",
    "        print(action)\n",
    "        print(reward)\n",
    "        state = next_state\n",
    "        test_total_rewards += reward\n",
    "        \n",
    "        if done:\n",
    "            print(\"it is done\")\n",
    "            break \n",
    "            \n",
    "    test_rewards.append(test_total_rewards)\n",
    "    #print(total_rewards)\n",
    "    #print(\"average score: \" + str(sum(rewards)/(episodes+1))\n",
    "print(\"average is: \" + str(sum(test_rewards)/5) + \" at \" + str(episode))"
   ]
  },
  {
   "cell_type": "code",
   "execution_count": null,
   "metadata": {},
   "outputs": [],
   "source": [
    "rewards = []\n",
    "averages = []\n",
    "old_average = 0\n",
    "success = 0\n",
    "\n",
    "# 2 For life or until learning is stopped\n",
    "for episode in range(total_episodes):\n",
    "    \n",
    "    # print(\"done with getting original reward\")\n",
    "    done = False\n",
    "    total_rewards = 0\n",
    "    \n",
    "    env.reset()\n",
    "    state = env.graph.b_graph.state\n",
    "    \n",
    "    for step in range(test_steps):\n",
    "            \n",
    "        #print(\"prepare to select node\")\n",
    "        action = agent.act(state, step)\n",
    "        next_state, reward, done = env.step(action)\n",
    "        agent.train(next_state, reward, action)\n",
    "        state = next_state\n",
    "        total_rewards += reward\n",
    "        \n",
    "        if done:\n",
    "            break \n",
    "            \n",
    "    # Reduce epsilon (because we need less and less exploration)\n",
    "    epsilon = min_epsilon + (max_epsilon - min_epsilon)*np.exp(-decay_rate*episode)\n",
    "    rewards.append(total_rewards)\n",
    "    #print(total_rewards)\n",
    "    #print(\"average score: \" + str(sum(rewards)/(episodes+1))\n",
    "    print(\"average is: \" + str(sum(rewards)/(episode+1)) + \" at \" + str(episode))\n",
    "    averages.append(sum(rewards)/(episode+1))\n",
    "#       print(\"now begin with \" + str(episode) + \" episode \")\n",
    "#     if(old_average <= sum(rewards)/(episode+1) and episode >= 1):\n",
    "#         break  \n",
    "     \n",
    "# save_path = saver.save(sess, \"/tmp/model.ckpt\")\n",
    "# print(\"Model saved in path: %s\" % save_path)\n",
    "#   old_average = sum(rewards)/(episode+1)"
   ]
  },
  {
   "cell_type": "code",
   "execution_count": null,
   "metadata": {},
   "outputs": [],
   "source": [
    "agent.save_model()\n",
    "plt.figure(figsize=(20, 10))\n",
    "plt.plot(averages)\n",
    "plt.show()"
   ]
  },
  {
   "cell_type": "code",
   "execution_count": null,
   "metadata": {},
   "outputs": [],
   "source": [
    "test_rewards = []\n",
    "agent.load_model()\n",
    "\n",
    "# test after training:\n",
    "for episode in range(5):\n",
    "    \n",
    "    # print(\"done with getting original reward\")\n",
    "    done = False\n",
    "    test_total_rewards = 0\n",
    "    \n",
    "    env.reset()\n",
    "    state = env.graph.b_graph.state\n",
    "    \n",
    "    for step in range(test_steps):\n",
    "            \n",
    "        #print(\"prepare to select nodnp.mean(rewards_window)e\")\n",
    "        action = agent.test(state, step)\n",
    "        next_state, reward, done = env.step(action)\n",
    "        print(action)\n",
    "        print(reward)\n",
    "        state = next_state\n",
    "        test_total_rewards += reward\n",
    "        \n",
    "        if done:\n",
    "            break \n",
    "            \n",
    "    test_rewards.append(test_total_rewards)\n",
    "    #print(total_rewards)\n",
    "    #print(\"average score: \" + str(sum(rewards)/(episodes+1))\n",
    "print(\"average is: \" + str(sum(test_rewards)/5) + \" at \" + str(episode))"
   ]
  },
  {
   "cell_type": "code",
   "execution_count": null,
   "metadata": {},
   "outputs": [],
   "source": []
  }
 ],
 "metadata": {
  "kernelspec": {
   "display_name": "Python 3",
   "language": "python",
   "name": "python3"
  },
  "language_info": {
   "codemirror_mode": {
    "name": "ipython",
    "version": 3
   },
   "file_extension": ".py",
   "mimetype": "text/x-python",
   "name": "python",
   "nbconvert_exporter": "python",
   "pygments_lexer": "ipython3",
   "version": "3.6.8"
  }
 },
 "nbformat": 4,
 "nbformat_minor": 2
}
